{
 "cells": [
  {
   "cell_type": "code",
   "execution_count": 2,
   "metadata": {
    "collapsed": false
   },
   "outputs": [],
   "source": [
    "%load_ext watermark "
   ]
  },
  {
   "cell_type": "code",
   "execution_count": 4,
   "metadata": {
    "collapsed": false
   },
   "outputs": [
    {
     "name": "stdout",
     "output_type": "stream",
     "text": [
      "Prathamesh 2017-03-31\n"
     ]
    }
   ],
   "source": [
    "% watermark --author Prathamesh -d"
   ]
  },
  {
   "cell_type": "code",
   "execution_count": 5,
   "metadata": {
    "collapsed": true
   },
   "outputs": [],
   "source": [
    "import tensorflow as tf\n",
    "import numpy as np"
   ]
  },
  {
   "cell_type": "code",
   "execution_count": 6,
   "metadata": {
    "collapsed": true
   },
   "outputs": [],
   "source": [
    "a = tf.constant(np.pi)"
   ]
  },
  {
   "cell_type": "code",
   "execution_count": 7,
   "metadata": {
    "collapsed": false
   },
   "outputs": [
    {
     "data": {
      "text/plain": [
       "<tf.Tensor 'Const:0' shape=() dtype=float32>"
      ]
     },
     "execution_count": 7,
     "metadata": {},
     "output_type": "execute_result"
    }
   ],
   "source": [
    "a"
   ]
  },
  {
   "cell_type": "code",
   "execution_count": 9,
   "metadata": {
    "collapsed": false
   },
   "outputs": [
    {
     "name": "stdout",
     "output_type": "stream",
     "text": [
      "Printing the value of pi: 3.1415927410125732\n"
     ]
    }
   ],
   "source": [
    "with tf.Session() as sess:\n",
    "    print (\"Printing the value of pi: {}\".format(sess.run(a)))"
   ]
  },
  {
   "cell_type": "code",
   "execution_count": 24,
   "metadata": {
    "collapsed": false
   },
   "outputs": [],
   "source": [
    "# Placeholder\n",
    "x = tf.placeholder(\"int32\", None)\n",
    "y = tf.pow(x=x, y=2)"
   ]
  },
  {
   "cell_type": "code",
   "execution_count": 26,
   "metadata": {
    "collapsed": false
   },
   "outputs": [
    {
     "name": "stdout",
     "output_type": "stream",
     "text": [
      "The number is [1] and result is 9\n"
     ]
    }
   ],
   "source": [
    "with tf.Session() as sess:\n",
    "    num = sess.run(x, feed_dict={x:[1]}) # We feed [1] to x\n",
    "    result = sess.run(y, feed_dict={x:3}) # We feed 3 to y and get the result\n",
    "    print (\"The number is {} and result is {}\".format(num, result))"
   ]
  },
  {
   "cell_type": "code",
   "execution_count": 28,
   "metadata": {
    "collapsed": false
   },
   "outputs": [
    {
     "name": "stdout",
     "output_type": "stream",
     "text": [
      "The number is [3 2 6] and result is [ 9  4 36]\n"
     ]
    }
   ],
   "source": [
    "# Let's see if we get it for a list\n",
    "with tf.Session() as sess:\n",
    "    num = sess.run(x, feed_dict={x:[3,2,6]}) # We feed [1] to x\n",
    "    result = sess.run(y, feed_dict={x:[3,2,6]}) # We feed 3 to y and get the result\n",
    "    print (\"The numbers is {} and result is {}\".format(num, result))"
   ]
  },
  {
   "cell_type": "code",
   "execution_count": 29,
   "metadata": {
    "collapsed": false
   },
   "outputs": [
    {
     "name": "stdout",
     "output_type": "stream",
     "text": [
      "The numbers is [3 2 6] and result is [ 9  4 36]\n"
     ]
    }
   ],
   "source": [
    "# Let's see if we get it for a list\n",
    "with tf.Session() as sess:\n",
    "    num = sess.run(x, feed_dict={x:[3.3,2,6]}) # We feed [1] to x\n",
    "    result = sess.run(y, feed_dict={x:[3.3,2,6]}) # We feed 3 to y and get the result\n",
    "    print (\"The numbers is {} and result is {}\".format(num, result))"
   ]
  },
  {
   "cell_type": "code",
   "execution_count": 30,
   "metadata": {
    "collapsed": true
   },
   "outputs": [],
   "source": [
    "# Placeholder, it is a float now\n",
    "x = tf.placeholder(\"float32\", None)\n",
    "y = tf.pow(x=x, y=2)"
   ]
  },
  {
   "cell_type": "code",
   "execution_count": 31,
   "metadata": {
    "collapsed": false
   },
   "outputs": [
    {
     "name": "stdout",
     "output_type": "stream",
     "text": [
      "The numbers is [ 3.29999995  2.          6.        ] and result is [ 10.88999939   4.          36.        ]\n"
     ]
    }
   ],
   "source": [
    "# Let's see if we get it for a list has float^2 or int^2\n",
    "with tf.Session() as sess:\n",
    "    num = sess.run(x, feed_dict={x:[3.3,2,6]}) # We feed [1] to x\n",
    "    result = sess.run(y, feed_dict={x:[3.3,2,6]}) # We feed 3 to y and get the result\n",
    "    print (\"The numbers is {} and result is {}\".format(num, result))"
   ]
  },
  {
   "cell_type": "code",
   "execution_count": null,
   "metadata": {
    "collapsed": true
   },
   "outputs": [],
   "source": []
  }
 ],
 "metadata": {
  "kernelspec": {
   "display_name": "Python 3",
   "language": "python",
   "name": "python3"
  },
  "language_info": {
   "codemirror_mode": {
    "name": "ipython",
    "version": 3
   },
   "file_extension": ".py",
   "mimetype": "text/x-python",
   "name": "python",
   "nbconvert_exporter": "python",
   "pygments_lexer": "ipython3",
   "version": "3.5.3"
  }
 },
 "nbformat": 4,
 "nbformat_minor": 2
}
